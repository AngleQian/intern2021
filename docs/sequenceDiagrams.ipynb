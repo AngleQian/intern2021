{
 "metadata": {
  "kernelspec": {
   "display_name": ".NET (C#)",
   "language": "C#",
   "name": ".net-csharp"
  },
  "language_info": {
   "name": "C#"
  }
 },
 "cells": [
  {
   "cell_type": "code",
   "execution_count": null,
   "source": [
    "#r \"nuget: Microsoft.DotNet.Interactive.ExtensionLab, *-*\""
   ],
   "outputs": [
    {
     "data": {
      "text/html": [
       "<div><div></div><div><strong>Installed Packages</strong><ul><li><span>apache.arrow, 0.14.1</span></li><li><span>humanizer.core, 2.2.0</span></li><li><span>iced, 1.8.0</span></li><li><span>icsharpcode.decompiler, 7.0.0.6225-preview1</span></li><li><span>microsoft.aspnetcore.html.abstractions, 2.2.0</span></li><li><span>microsoft.bcl.asyncinterfaces, 5.0.0</span></li><li><span>microsoft.bcl.hashcode, 1.1.0</span></li><li><span>microsoft.codeanalysis.analyzerutilities, 3.3.0</span></li><li><span>microsoft.codeanalysis.common, 3.9.0</span></li><li><span>microsoft.codeanalysis.csharp, 3.9.0</span></li><li><span>microsoft.codeanalysis.csharp.features, 3.9.0</span></li><li><span>microsoft.codeanalysis.csharp.scripting, 3.9.0</span></li><li><span>microsoft.codeanalysis.csharp.workspaces, 3.9.0</span></li><li><span>microsoft.codeanalysis.features, 3.9.0</span></li><li><span>microsoft.codeanalysis.scripting.common, 3.9.0</span></li><li><span>microsoft.codeanalysis.visualbasic, 3.9.0</span></li><li><span>microsoft.codeanalysis.visualbasic.workspaces, 3.9.0</span></li><li><span>microsoft.codeanalysis.workspaces.common, 3.9.0</span></li><li><span>microsoft.data.analysis, 0.4.0</span></li><li><span>microsoft.data.sqlclient, 2.0.0</span></li><li><span>microsoft.data.sqlclient.sni.runtime, 2.0.0</span></li><li><span>microsoft.data.sqlite.core, 3.1.8</span></li><li><span>microsoft.diagnostics.runtime, 1.1.132302</span></li><li><span>microsoft.diasymreader, 1.3.0</span></li><li><span>microsoft.dotnet.interactive, 1.0.0-beta.21363.1</span></li><li><span>microsoft.dotnet.interactive.csharp, 1.0.0-beta.21363.1</span></li><li><span>Microsoft.DotNet.Interactive.ExtensionLab, 1.0.0-beta.21363.1</span></li><li><span>microsoft.dotnet.interactive.formatting, 1.0.0-beta.21363.1</span></li><li><span>microsoft.dotnet.interactive.packagemanagement, 1.0.0-beta.21363.1</span></li><li><span>microsoft.entityframeworkcore, 3.1.8</span></li><li><span>microsoft.entityframeworkcore.abstractions, 3.1.8</span></li><li><span>microsoft.entityframeworkcore.relational, 3.1.8</span></li><li><span>microsoft.entityframeworkcore.sqlserver, 3.1.8</span></li><li><span>microsoft.extensions.caching.abstractions, 3.1.8</span></li><li><span>microsoft.extensions.caching.memory, 3.1.8</span></li><li><span>microsoft.extensions.configuration, 3.1.8</span></li><li><span>microsoft.extensions.configuration.abstractions, 3.1.8</span></li><li><span>microsoft.extensions.configuration.binder, 3.1.8</span></li><li><span>microsoft.extensions.dependencyinjection, 3.1.8</span></li><li><span>microsoft.extensions.dependencyinjection.abstractions, 3.1.8</span></li><li><span>microsoft.extensions.logging, 3.1.8</span></li><li><span>microsoft.extensions.logging.abstractions, 3.1.8</span></li><li><span>microsoft.extensions.options, 3.1.8</span></li><li><span>microsoft.extensions.primitives, 3.1.8</span></li><li><span>microsoft.identity.client, 4.14.0</span></li><li><span>microsoft.identitymodel.jsonwebtokens, 5.6.0</span></li><li><span>microsoft.identitymodel.logging, 5.6.0</span></li><li><span>microsoft.identitymodel.protocols, 5.6.0</span></li><li><span>microsoft.identitymodel.protocols.openidconnect, 5.6.0</span></li><li><span>microsoft.identitymodel.tokens, 5.6.0</span></li><li><span>microsoft.ml.dataview, 1.0.0</span></li><li><span>microsoft.win32.systemevents, 4.7.0</span></li><li><span>newtonsoft.json, 10.0.1</span></li><li><span>nuget.frameworks, 5.0.0</span></li><li><span>sqlitepclraw.bundle_e_sqlite3, 2.0.2</span></li><li><span>sqlitepclraw.core, 2.0.2</span></li><li><span>sqlitepclraw.lib.e_sqlite3, 2.0.2</span></li><li><span>sqlitepclraw.provider.dynamic_cdecl, 2.0.2</span></li><li><span>system.commandline, 2.0.0-beta1.21308.1</span></li><li><span>system.commandline.rendering, 0.3.0-alpha.20427.1</span></li><li><span>system.composition.attributedmodel, 1.0.31</span></li><li><span>system.composition.convention, 1.0.31</span></li><li><span>system.composition.hosting, 1.0.31</span></li><li><span>system.composition.runtime, 1.0.31</span></li><li><span>system.composition.typedparts, 1.0.31</span></li><li><span>system.configuration.configurationmanager, 4.7.0</span></li><li><span>system.drawing.common, 4.7.0</span></li><li><span>system.identitymodel.tokens.jwt, 5.6.0</span></li><li><span>system.io.pipelines, 5.0.0</span></li><li><span>system.reactive, 5.0.0</span></li><li><span>system.runtime.caching, 4.7.0</span></li><li><span>system.security.cryptography.protecteddata, 4.7.0</span></li><li><span>system.security.permissions, 4.7.0</span></li><li><span>system.text.encodings.web, 5.0.1</span></li><li><span>system.text.json, 5.0.2</span></li><li><span>system.windows.extensions, 4.7.0</span></li></ul></div><div></div></div>"
      ]
     },
     "metadata": {},
     "output_type": "display_data"
    },
    {
     "data": {
      "text/markdown": [
       "Loading extensions from `Microsoft.DotNet.Interactive.ExtensionLab.dll`"
      ]
     },
     "metadata": {},
     "output_type": "display_data"
    },
    {
     "data": {
      "text/html": [
       "<details><summary>Create strongly-typed dataframes using<code>#!linqify</code>.</summary>\r\n",
       "    <p>The <code>#!linqify</code> magic command replaces a <a href=\"https://www.nuget.org/packages/Microsoft.Data.Analysis/\"><code>Microsoft.Data.Analysis.DataFrame</code></a> variable with a generated, strongly-typed data frame, allowing the use of LINQ operations over the contained data.</p>\r\n",
       "    </details>"
      ]
     },
     "metadata": {},
     "output_type": "display_data"
    },
    {
     "data": {
      "text/html": [
       "<details><summary>Inspect code compilation details using the <code>#!inspect</code> magic command.</summary>\r\n",
       "    <p>The <code>#!inspect</code> magic command allows you to see the C# decompilation, IL, and JIT Asm for the code in a C# cell.</p>\r\n",
       "    <img src=\"https://user-images.githubusercontent.com/547415/109560515-d5749a00-7a90-11eb-9fa3-51b737345bb4.png\" width=\"75%\" />\r\n",
       "    </details>"
      ]
     },
     "metadata": {},
     "output_type": "display_data"
    },
    {
     "data": {
      "text/html": [
       "<details><summary>Explain things visually using the <a href=\"https://mermaid-js.github.io/mermaid/\">Mermaid language</a>.</summary>\r\n",
       "    <p>This extension adds a new kernel that can render Mermaid markdown. This code will render a sequence diagram:</p>\r\n",
       "<pre>\r\n",
       "    <code>\r\n",
       "#!mermaid\r\n",
       "sequenceDiagram\r\n",
       "    participant Alice\r\n",
       "    participant Bob\r\n",
       "    Alice->>John: Hello John, how are you?\r\n",
       "    loop Healthcheck\r\n",
       "        John->>John: Fight against hypochondria\r\n",
       "    end\r\n",
       "    Note right of John: Rational thoughts prevail!\r\n",
       "    John-->>Alice: Great!\r\n",
       "    John->>Bob: How about you?\r\n",
       "    Bob-->>John: Jolly good!\r\n",
       "    </code>\r\n",
       "</pre>\r\n",
       "<p>This extension also adds gestures to render a class diagram from any type. Use the <code>ExploreWithUmlClassDiagram().Display();</code> extension method on <code>System.Type</code> to render its class diagram.</p>\r\n",
       "\r\n",
       "<pre>\r\n",
       "    <code>\r\n",
       "typeof(List&lt;string&gt;).ExploreWithUmlClassDiagram().Display();\r\n",
       "    </code>\r\n",
       "</pre>\r\n",
       "    <img src=\"https://mermaid-js.github.io/mermaid/img/header.png\" width=\"30%\">\r\n",
       "    </details>"
      ]
     },
     "metadata": {},
     "output_type": "display_data"
    },
    {
     "data": {
      "text/html": [
       "<details><summary>Explore data visually using the <a href=\"https://github.com/nteract/data-explorer\">nteract Data Explorer</a>.</summary>\r\n",
       "    <p>This extension adds the ability to sort, filter, and visualize data using the <a href=\"https://github.com/nteract/data-explorer\">nteract Data Explorer</a>. Use the <code>ExploreWithNteract()</code> extension method with variables of type <code>JsonElement</code>, <code>IEnumerable<T></code> or <code>IDataView</code> to render the data explorer.</p>\r\n",
       "<pre>\r\n",
       "    <code>\r\n",
       "    using Microsoft.Data.Analysis;\r\n",
       "    using System.Collections.Generic;\r\n",
       "    using Microsoft.ML;\r\n",
       "\r\n",
       "    var dataFrame = DataFrame.LoadCsv(\"./Data.csv\");\r\n",
       "\r\n",
       "    dataFrame.ExploreWithNteract().Display();\r\n",
       "    </code>\r\n",
       "</pre>\r\n",
       "    <img src=\"https://user-images.githubusercontent.com/547415/109559345-621e5880-7a8f-11eb-8b98-d4feeaac116f.png\" width=\"75%\">\r\n",
       "    </details>"
      ]
     },
     "metadata": {},
     "output_type": "display_data"
    },
    {
     "data": {
      "text/html": [
       "<details><summary>Use the <code>#!record</code> magic command to keep a transcript of the code you run.</summary>\r\n",
       "    <p>Once you enable transcripts using <code>#!record</code>, each code submission (including re-running cells) is recorded in the specified file. The JSON format used is the same format recognized by the .NET Interactive <code>stdio</code> and <code>http</code> APIs and can be used to replay a notebook session via automation.</p>\r\n",
       "    <img src=\"https://user-images.githubusercontent.com/547415/109562409-343b1300-7a93-11eb-8ebf-79bb6af028cf.png\" width=\"75%\" />\r\n",
       "    </details>"
      ]
     },
     "metadata": {},
     "output_type": "display_data"
    },
    {
     "data": {
      "text/html": [
       "<details><summary>Explore data visually using the <a href=\"https://github.com/microsoft/SandDance\">SandDance Explorer</a>.</summary>\r\n",
       "    <p>This extension adds the ability to sort, filter, and visualize data using the <a href=\"https://github.com/microsoft/SandDance\">SandDance Explorer</a>. Use the <code>ExploreWithSandDance()</code> extension method with variables of type <code>JsonElement</code>, <code>IEnumerable<T></code> or <code>IDataView</code> to render the data explorer.</p>\r\n",
       "<pre>\r\n",
       "    <code>\r\n",
       "    using Microsoft.Data.Analysis;\r\n",
       "    using System.Collections.Generic;\r\n",
       "    using Microsoft.ML;\r\n",
       "\r\n",
       "    var dataFrame = DataFrame.LoadCsv(\"./Data.csv\");\r\n",
       "\r\n",
       "    dataFrame.ExploreWithSandDance().Display();\r\n",
       "    </code>\r\n",
       "</pre>\r\n",
       "    <img src=\"https://user-images.githubusercontent.com/11507384/54236654-52d42800-44d1-11e9-859e-6c5d297a46d2.gif\" width=\"30%\">\r\n",
       "    </details>"
      ]
     },
     "metadata": {},
     "output_type": "display_data"
    },
    {
     "data": {
      "text/html": [
       "<details><summary>Query SQLite databases.</summary>\r\n",
       "    <p>This extension adds support for connecting to SQLite databases using the <code>#!connect sqlite</code> magic command. For more information, run a cell using the <code>#!sql</code> magic command.</p>\r\n",
       "    </details>"
      ]
     },
     "metadata": {},
     "output_type": "display_data"
    }
   ],
   "metadata": {
    "dotnet_interactive": {
     "language": "csharp"
    }
   }
  },
  {
   "cell_type": "code",
   "execution_count": null,
   "source": [
    "// user scenario workflow\r\n",
    "\r\n",
    "#!mermaid\r\n",
    "\r\n",
    "sequenceDiagram\r\n",
    "    participant Teacher\r\n",
    "    participant Student\r\n",
    "\r\n",
    "    rect rgba(30,144,255, 0.5)\r\n",
    "    Note left of Teacher: Define Challenge\r\n",
    "    Teacher->>Teacher: AddRules \r\n",
    "    Teacher->>Teacher: AddOnCodeSubmittedHandler\r\n",
    "    end\r\n",
    "\r\n",
    "    Teacher->>Student: SendChallenge\r\n",
    "\r\n",
    "    Student->>Student: WriteTheirAnswer\r\n",
    "\r\n",
    "    Student->>Teacher: SubmitCode\r\n",
    "\r\n",
    "    Teacher->>Teacher: Run Rule, get RuleEvaluation\r\n",
    "    Teacher->>Teacher: Run OnCodeSubmitted, get ChallengeEvaluation\r\n",
    "\r\n",
    "    Teacher->>Student: Display Evaluation\r\n",
    "    "
   ],
   "outputs": [
    {
     "data": {
      "text/html": [
       "<div style=\"background-color:white;\">\r\n",
       "<script type=\"text/javascript\">\r\n",
       "\r\n",
       "let loadMermaid_4b8fb5db834c4f748c59b9c4b1a210ba = () => {\r\n",
       "\r\n",
       "        configureRequireFromExtension('Mermaid','1.0.0')(['Mermaid/mermaidapi'], (mermaid) => {\r\n",
       "\r\n",
       "            let renderTarget = document.getElementById('4b8fb5db834c4f748c59b9c4b1a210ba');\r\n",
       "            mermaid.render( \r\n",
       "                'mermaid_4b8fb5db834c4f748c59b9c4b1a210ba', \r\n",
       "                `sequenceDiagram\r\n",
       "    participant Teacher\r\n",
       "    participant Student\r\n",
       "\r\n",
       "    rect rgba(30,144,255, 0.5)\r\n",
       "    Note left of Teacher: Define Challenge\r\n",
       "    Teacher->>Teacher: AddRules \r\n",
       "    Teacher->>Teacher: AddOnCodeSubmittedHandler\r\n",
       "    end\r\n",
       "\r\n",
       "    Teacher->>Student: SendChallenge\r\n",
       "\r\n",
       "    Student->>Student: WriteTheirAnswer\r\n",
       "\r\n",
       "    Student->>Teacher: SubmitCode\r\n",
       "\r\n",
       "    Teacher->>Teacher: Run Rule, get RuleEvaluation\r\n",
       "    Teacher->>Teacher: Run OnCodeSubmitted, get ChallengeEvaluation\r\n",
       "\r\n",
       "    Teacher->>Student: Display Evaluation\r\n",
       "    `, \r\n",
       "                g => {\r\n",
       "                    renderTarget.innerHTML = g \r\n",
       "                });\r\n",
       "        },\r\n",
       "        (error) => {\r\n",
       "            console.log(error);\r\n",
       "        });\r\n",
       "}\r\n",
       "// ensure `require` is available globally\r\n",
       "if ((typeof(require) !==  typeof(Function)) || (typeof(require.config) !== typeof(Function))) {\r\n",
       "    let require_script = document.createElement('script');\r\n",
       "    require_script.setAttribute('src', 'https://cdnjs.cloudflare.com/ajax/libs/require.js/2.3.6/require.min.js');\r\n",
       "    require_script.setAttribute('type', 'text/javascript');\r\n",
       "    \r\n",
       "    \r\n",
       "    require_script.onload = function() {\r\n",
       "        loadMermaid_4b8fb5db834c4f748c59b9c4b1a210ba();\r\n",
       "    };\r\n",
       "\r\n",
       "    document.getElementsByTagName('head')[0].appendChild(require_script);\r\n",
       "}\r\n",
       "else {\r\n",
       "    loadMermaid_4b8fb5db834c4f748c59b9c4b1a210ba();\r\n",
       "}\r\n",
       "\r\n",
       "</script>\r\n",
       "<div id=\"4b8fb5db834c4f748c59b9c4b1a210ba\"></div>\r\n",
       "</div>\r\n"
      ]
     },
     "metadata": {},
     "output_type": "display_data"
    }
   ],
   "metadata": {
    "dotnet_interactive": {
     "language": "csharp"
    }
   }
  },
  {
   "cell_type": "code",
   "execution_count": null,
   "source": [
    "// defining a challenge\r\n",
    "\r\n",
    "#!mermaid\r\n",
    "\r\n",
    "sequenceDiagram\r\n",
    "    participant Lesson\r\n",
    "    participant Challenge\r\n",
    "    participant Evaluator\r\n",
    "    participant Rule\r\n",
    "\r\n",
    "    Lesson->>Challenge: AddChallenge\r\n",
    "\r\n",
    "    Lesson->>Lesson: CurrentChallenge set\r\n",
    "\r\n",
    "\r\n",
    "    Challenge->>Evaluator: AddRule\r\n",
    "    Evaluator->>Rule: new Rule\r\n",
    "\r\n",
    "    Challenge->>Challenge: OnCodeSubmitted\r\n",
    "\r\n",
    "\r\n",
    "    "
   ],
   "outputs": [
    {
     "data": {
      "text/html": [
       "<div style=\"background-color:white;\">\r\n",
       "<script type=\"text/javascript\">\r\n",
       "\r\n",
       "let loadMermaid_8bb3198f1c0d4075b0873eb5b8182e5f = () => {\r\n",
       "\r\n",
       "        configureRequireFromExtension('Mermaid','1.0.0')(['Mermaid/mermaidapi'], (mermaid) => {\r\n",
       "\r\n",
       "            let renderTarget = document.getElementById('8bb3198f1c0d4075b0873eb5b8182e5f');\r\n",
       "            mermaid.render( \r\n",
       "                'mermaid_8bb3198f1c0d4075b0873eb5b8182e5f', \r\n",
       "                `sequenceDiagram\r\n",
       "    participant Lesson\r\n",
       "    participant Challenge\r\n",
       "    participant Evaluator\r\n",
       "    participant Rule\r\n",
       "\r\n",
       "    Lesson->>Challenge: AddChallenge\r\n",
       "\r\n",
       "    Lesson->>Lesson: CurrentChallenge set\r\n",
       "\r\n",
       "\r\n",
       "    Challenge->>Evaluator: AddRule\r\n",
       "    Evaluator->>Rule: new Rule\r\n",
       "\r\n",
       "    Challenge->>Challenge: OnCodeSubmitted\r\n",
       "\r\n",
       "\r\n",
       "    `, \r\n",
       "                g => {\r\n",
       "                    renderTarget.innerHTML = g \r\n",
       "                });\r\n",
       "        },\r\n",
       "        (error) => {\r\n",
       "            console.log(error);\r\n",
       "        });\r\n",
       "}\r\n",
       "// ensure `require` is available globally\r\n",
       "if ((typeof(require) !==  typeof(Function)) || (typeof(require.config) !== typeof(Function))) {\r\n",
       "    let require_script = document.createElement('script');\r\n",
       "    require_script.setAttribute('src', 'https://cdnjs.cloudflare.com/ajax/libs/require.js/2.3.6/require.min.js');\r\n",
       "    require_script.setAttribute('type', 'text/javascript');\r\n",
       "    \r\n",
       "    \r\n",
       "    require_script.onload = function() {\r\n",
       "        loadMermaid_8bb3198f1c0d4075b0873eb5b8182e5f();\r\n",
       "    };\r\n",
       "\r\n",
       "    document.getElementsByTagName('head')[0].appendChild(require_script);\r\n",
       "}\r\n",
       "else {\r\n",
       "    loadMermaid_8bb3198f1c0d4075b0873eb5b8182e5f();\r\n",
       "}\r\n",
       "\r\n",
       "</script>\r\n",
       "<div id=\"8bb3198f1c0d4075b0873eb5b8182e5f\"></div>\r\n",
       "</div>\r\n"
      ]
     },
     "metadata": {},
     "output_type": "display_data"
    }
   ],
   "metadata": {
    "dotnet_interactive": {
     "language": "csharp"
    }
   }
  },
  {
   "cell_type": "code",
   "execution_count": null,
   "source": [
    "// codesubmit\r\n",
    "\r\n",
    "#!mermaid\r\n",
    "\r\n",
    "sequenceDiagram\r\n",
    "    participant Human\r\n",
    "    participant Kernel\r\n",
    "    participant Lesson\r\n",
    "    participant ChallengeController\r\n",
    "    participant Challenge\r\n",
    "    participant ChallengeContext\r\n",
    "    participant Evaluator\r\n",
    "    participant Rule\r\n",
    "    participant RuleContext\r\n",
    "    participant ChallengeEvaluation\r\n",
    "    participant RuleEvaluation\r\n",
    "\r\n",
    "    \r\n",
    "    Human->>Kernel: SubmitCode\r\n",
    "    Kernel->>Challenge: finish running student code\r\n",
    "    Challenge->>ChallengeContext: new\r\n",
    "    Challenge->>RuleContext: new\r\n",
    "\r\n",
    "    Challenge->>Evaluator: EvaluateChallenge(ChallengeContext, RuleContext)\r\n",
    "\r\n",
    "    Evaluator->>ChallengeEvaluation: new\r\n",
    "    ChallengeEvaluation->>RuleEvaluation: new\r\n",
    "\r\n",
    "    Evaluator->>Rule: Invoke(RuleContext)\r\n",
    "    RuleContext->>RuleEvaluation: SetRuleOutcome\r\n",
    "\r\n",
    "    Evaluator->>OnCodeSubmitted: Invoke(ChallengeContext)\r\n",
    "    ChallengeContext->>ChallengeEvaluation: SetOutcome"
   ],
   "outputs": [
    {
     "data": {
      "text/html": [
       "<div style=\"background-color:white;\">\r\n",
       "<script type=\"text/javascript\">\r\n",
       "\r\n",
       "let loadMermaid_4c686cb5de98400fac28f910c7b58337 = () => {\r\n",
       "\r\n",
       "        configureRequireFromExtension('Mermaid','1.0.0')(['Mermaid/mermaidapi'], (mermaid) => {\r\n",
       "\r\n",
       "            let renderTarget = document.getElementById('4c686cb5de98400fac28f910c7b58337');\r\n",
       "            mermaid.render( \r\n",
       "                'mermaid_4c686cb5de98400fac28f910c7b58337', \r\n",
       "                `sequenceDiagram\r\n",
       "    participant Human\r\n",
       "    participant Kernel\r\n",
       "    participant Lesson\r\n",
       "    participant ChallengeController\r\n",
       "    participant Challenge\r\n",
       "    participant ChallengeContext\r\n",
       "    participant Evaluator\r\n",
       "    participant Rule\r\n",
       "    participant RuleContext\r\n",
       "    participant ChallengeEvaluation\r\n",
       "    participant RuleEvaluation\r\n",
       "\r\n",
       "    \r\n",
       "    Human->>Kernel: SubmitCode\r\n",
       "    Kernel->>Challenge: finish running student code\r\n",
       "    Challenge->>ChallengeContext: new\r\n",
       "    Challenge->>RuleContext: new\r\n",
       "\r\n",
       "    Challenge->>Evaluator: EvaluateChallenge(ChallengeContext, RuleContext)\r\n",
       "\r\n",
       "    Evaluator->>ChallengeEvaluation: new\r\n",
       "    ChallengeEvaluation->>RuleEvaluation: new\r\n",
       "\r\n",
       "    Evaluator->>Rule: Invoke(RuleContext)\r\n",
       "    RuleContext->>RuleEvaluation: SetRuleOutcome\r\n",
       "\r\n",
       "    Evaluator->>OnCodeSubmitted: Invoke(ChallengeContext)\r\n",
       "    ChallengeContext->>ChallengeEvaluation: SetOutcome`, \r\n",
       "                g => {\r\n",
       "                    renderTarget.innerHTML = g \r\n",
       "                });\r\n",
       "        },\r\n",
       "        (error) => {\r\n",
       "            console.log(error);\r\n",
       "        });\r\n",
       "}\r\n",
       "// ensure `require` is available globally\r\n",
       "if ((typeof(require) !==  typeof(Function)) || (typeof(require.config) !== typeof(Function))) {\r\n",
       "    let require_script = document.createElement('script');\r\n",
       "    require_script.setAttribute('src', 'https://cdnjs.cloudflare.com/ajax/libs/require.js/2.3.6/require.min.js');\r\n",
       "    require_script.setAttribute('type', 'text/javascript');\r\n",
       "    \r\n",
       "    \r\n",
       "    require_script.onload = function() {\r\n",
       "        loadMermaid_4c686cb5de98400fac28f910c7b58337();\r\n",
       "    };\r\n",
       "\r\n",
       "    document.getElementsByTagName('head')[0].appendChild(require_script);\r\n",
       "}\r\n",
       "else {\r\n",
       "    loadMermaid_4c686cb5de98400fac28f910c7b58337();\r\n",
       "}\r\n",
       "\r\n",
       "</script>\r\n",
       "<div id=\"4c686cb5de98400fac28f910c7b58337\"></div>\r\n",
       "</div>\r\n"
      ]
     },
     "metadata": {},
     "output_type": "display_data"
    }
   ],
   "metadata": {
    "dotnet_interactive": {
     "language": "csharp"
    }
   }
  }
 ],
 "nbformat": 4,
 "nbformat_minor": 2
}